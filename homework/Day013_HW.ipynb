{
 "cells": [
  {
   "cell_type": "markdown",
   "metadata": {},
   "source": [
    "# PTT 網路爬蟲實作練習\n",
    "\n",
    "\n",
    "* 能夠利用 Request + BeatifulSour 撰寫爬蟲，並存放到合適的資料結構\n"
   ]
  },
  {
   "cell_type": "markdown",
   "metadata": {},
   "source": [
    "## 作業目標\n",
    "\n",
    "根據範例 ，完成以下問題：\n",
    "\n",
    "* ① 印出最新文章的「作者」「標題」「時間」\n",
    "* ② 印出第一頁所有文章的「作者」「標題」「時間」\n"
   ]
  },
  {
   "cell_type": "markdown",
   "metadata": {},
   "source": [
    "### ① 印出最新文章的「作者」「標題」「時間」"
   ]
  },
  {
   "cell_type": "code",
   "execution_count": 66,
   "metadata": {},
   "outputs": [
    {
     "name": "stdout",
     "output_type": "stream",
     "text": [
      "[新聞] K湯爸稱若本季就此結束「應宣布湖人拿總\n",
      "作者: whj0530 (億載金城武)\n",
      "時間Tue Mar 17 08:58:15 2020\n"
     ]
    }
   ],
   "source": [
    "'''\n",
    "Your Code\n",
    "'''\n",
    "import requests\n",
    "from bs4 import BeautifulSoup\n",
    "\n",
    "url = 'https://www.ptt.cc/bbs/NBA/index.html'\n",
    "r = requests.get(url)\n",
    "\n",
    "soup = BeautifulSoup(r.text, \"html.parser\")\n",
    "\n",
    "for d in soup.find_all(class_ = 'title'):\n",
    "    print(d.text.replace(\"\\n\",\"\"))\n",
    "    try:\n",
    "        r = BeautifulSoup(requests.get('https://www.ptt.cc'+d.find('a')['href']).text, \"html.parser\")\n",
    "        print('作者: ' + r.find(class_='article-meta-value').text)\n",
    "        print(r.find_all(class_='article-metaline')[2].text)\n",
    "    except:\n",
    "        continue\n",
    "    break"
   ]
  },
  {
   "cell_type": "markdown",
   "metadata": {},
   "source": [
    "### ② 印出第一頁所有文章的「作者」「標題」「時間」"
   ]
  },
  {
   "cell_type": "code",
   "execution_count": 67,
   "metadata": {},
   "outputs": [
    {
     "name": "stdout",
     "output_type": "stream",
     "text": [
      "[新聞] K湯爸稱若本季就此結束「應宣布湖人拿總\n",
      "作者: whj0530 (億載金城武)\n",
      "時間Tue Mar 17 08:58:15 2020\n",
      "[花邊] Embiid新髮型加關心疫情\n",
      "作者: liuuuuuu (倘若那天)\n",
      "時間Tue Mar 17 11:20:22 2020\n",
      "[花邊] Trae Young發起#InHouseChallenge\n",
      "作者: freddy910209 (佛瑞迪)\n",
      "時間Tue Mar 17 11:55:39 2020\n",
      "[新聞] 太陽後衛遭釋出　首位受新冠肺炎影響失業\n",
      "作者: kit279 (㊣<=5566南波萬=>)\n",
      "時間Tue Mar 17 12:47:24 2020\n",
      "[新聞] 超越人類極限！Kobe Bryant 獨門「666 魔\n",
      "作者: Tuesday (圖斯黛)\n",
      "時間Tue Mar 17 15:55:50 2020\n",
      "[公告] 板規v6.8\n",
      "[公告] 版主上任相關事項 \n",
      "作者: qazwsx879345 (Rajon Rondo)\n",
      "時間Fri Oct 25 10:44:03 2019\n",
      "[情報] SEASON Schedule 賽程 March 19–20\n",
      "作者: Acetoxy (阿斯)\n",
      "時間Mon Mar  2 01:19:40 2020\n",
      "[公告] 第一次被退文，可在三天後刪除退文\n",
      "作者: Vedan (味丹)\n",
      "時間Mon Mar  9 11:44:26 2020\n",
      "[公告]大怒灌 \n",
      "作者: namie810303 (NBA)\n",
      "時間Thu Mar 12 09:57:19 2020\n"
     ]
    }
   ],
   "source": [
    "'''\n",
    "Your Code\n",
    "'''\n",
    "url = 'https://www.ptt.cc/bbs/NBA/index.html'\n",
    "r = requests.get(url)\n",
    "\n",
    "soup = BeautifulSoup(r.text, \"html.parser\")\n",
    "\n",
    "for d in soup.find_all(class_ = 'title'):\n",
    "    print(d.text.replace(\"\\n\",\"\"))\n",
    "    try:\n",
    "        r = BeautifulSoup(requests.get('https://www.ptt.cc'+d.find('a')['href']).text, \"html.parser\")\n",
    "        print('作者: ' + r.find(class_='article-meta-value').text)\n",
    "        print(r.find_all(class_='article-metaline')[2].text)\n",
    "    except:\n",
    "        continue"
   ]
  },
  {
   "cell_type": "markdown",
   "metadata": {},
   "source": [
    "### ③ 試著爬爬看其他版的文章"
   ]
  },
  {
   "cell_type": "code",
   "execution_count": 69,
   "metadata": {},
   "outputs": [
    {
     "name": "stdout",
     "output_type": "stream",
     "text": [
      "[影音] 邕聖祐 迷你1輯 LAYERS 概念照&試聽\n",
      "作者: Im22Yo (Beautiful Wanna One)\n",
      "時間Mon Mar 16 22:58:10 2020\n",
      "[情報] Melon 週榜 (2020.03.09 ~ 2020.03.15)\n",
      "作者: pkkcyc ()\n",
      "時間Mon Mar 16 22:58:38 2020\n",
      "[影音] 宜珍(SONAMOO) EXO MEDLEY Dance Cover\n",
      "作者: pkkcyc ()\n",
      "時間Tue Mar 17 16:05:32 2020\n",
      "[情報] I'll - 你和我(You&I)\n",
      "作者: seaBottle21 (seabottle)\n",
      "時間Tue Mar 17 16:56:30 2020\n",
      "[影音] 世正 - '花盆'\n",
      "作者: pkkcyc ()\n",
      "時間Tue Mar 17 17:00:03 2020\n",
      "[影音] 朴經 - '刷新' (Feat.姜珉炅) Preview\n",
      "作者: nccucat ( )\n",
      "時間Tue Mar 17 17:06:24 2020\n",
      "[情報] 無人知曉 OST Part.4 - 金鐘萬(NELL)\n",
      "作者: seaBottle21 (seabottle)\n",
      "時間Tue Mar 17 17:10:50 2020\n",
      "[情報] Yun Ddan Ddan - 新婚日記\n",
      "作者: seaBottle21 (seabottle)\n",
      "時間Tue Mar 17 17:27:41 2020\n",
      "[公告] KoreanPop板板規/置底檢舉區/板務討論區\n",
      "作者: z80680613 (龍神天劍)\n",
      "時間Mon Dec 12 00:00:18 2016\n",
      "[公告] 置底閒聊文\n",
      "作者: z80680613 (龍神天劍)\n",
      "時間Mon Dec 12 00:17:06 2016\n",
      "[公告] 置底問歌文\n",
      "作者: z80680613 (龍神天劍)\n",
      "時間Mon May  1 14:19:36 2017\n"
     ]
    }
   ],
   "source": [
    "'''\n",
    "Your Code\n",
    "'''\n",
    "import requests\n",
    "from bs4 import BeautifulSoup\n",
    "\n",
    "url = 'https://www.ptt.cc/bbs/KoreanPop/index.html'\n",
    "r = requests.get(url)\n",
    "\n",
    "soup = BeautifulSoup(r.text, \"html.parser\")\n",
    "\n",
    "for d in soup.find_all(class_ = 'title'):\n",
    "    print(d.text.replace(\"\\n\",\"\"))\n",
    "    try:\n",
    "        r = BeautifulSoup(requests.get('https://www.ptt.cc'+d.find('a')['href']).text, \"html.parser\")\n",
    "        print('作者: ' + r.find(class_='article-meta-value').text)\n",
    "        print(r.find_all(class_='article-metaline')[2].text)\n",
    "    except:\n",
    "        continue"
   ]
  }
 ],
 "metadata": {
  "kernelspec": {
   "display_name": "Python 3",
   "language": "python",
   "name": "python3"
  },
  "language_info": {
   "codemirror_mode": {
    "name": "ipython",
    "version": 3
   },
   "file_extension": ".py",
   "mimetype": "text/x-python",
   "name": "python",
   "nbconvert_exporter": "python",
   "pygments_lexer": "ipython3",
   "version": "3.6.0"
  }
 },
 "nbformat": 4,
 "nbformat_minor": 2
}
