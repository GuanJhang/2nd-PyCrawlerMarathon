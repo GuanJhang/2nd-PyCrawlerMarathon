{
 "cells": [
  {
   "cell_type": "markdown",
   "metadata": {},
   "source": [
    "# API 資料串接 - 以 知乎 API 實作範例\n",
    "\n",
    "\n",
    "\n",
    "* 了解知乎 API 使用方式與回傳內容\n",
    "* 撰寫程式存取 API 且添加標頭\n",
    "\n",
    "\n"
   ]
  },
  {
   "cell_type": "markdown",
   "metadata": {},
   "source": [
    "## 作業目標\n",
    "\n",
    "* 根據範例提供的 API ，完成以下問題：\n",
    "\n",
    "    1. 取出知乎問題發問時間\n",
    "    2. 取出第一筆與最後一筆回答的時間\n"
   ]
  },
  {
   "cell_type": "markdown",
   "metadata": {},
   "source": [
    "### 1. 取出知乎問題發問時間"
   ]
  },
  {
   "cell_type": "code",
   "execution_count": 42,
   "metadata": {},
   "outputs": [
    {
     "name": "stdout",
     "output_type": "stream",
     "text": [
      "2019-04-01 10:17:08\n",
      "2019-05-14 17:00:12\n",
      "2017-05-02 10:45:13\n",
      "2019-10-29 11:07:06\n",
      "2019-02-27 11:41:25\n"
     ]
    }
   ],
   "source": [
    "# 1. 取出知乎問題發問時間\n",
    "import requests\n",
    "import json\n",
    "import time\n",
    "\n",
    "# 寫headers\n",
    "headers = {'user-agent':'Mozilla/5.0',\n",
    "           'upgrade-insecure-requests':'1'}\n",
    "\n",
    "r = requests.get('https://www.zhihu.com/api/v4/questions/55493026/answers',headers = headers)\n",
    "response = r.text\n",
    "data = json.loads(response)\n",
    "\n",
    "# data\n",
    "for d in data['data']:\n",
    "    timeStamp = d['created_time']\n",
    "    timeArray = time.localtime(timeStamp)\n",
    "    otherStyleTime = time.strftime(\"%Y-%m-%d %H:%M:%S\", timeArray)\n",
    "    print(otherStyleTime)\n"
   ]
  },
  {
   "cell_type": "markdown",
   "metadata": {},
   "source": [
    "### 2. 取出第一筆與最後一筆回答的時間"
   ]
  },
  {
   "cell_type": "code",
   "execution_count": 41,
   "metadata": {},
   "outputs": [
    {
     "name": "stdout",
     "output_type": "stream",
     "text": [
      "2017-05-02 10:45:13\n",
      "2019-10-29 11:07:06\n"
     ]
    }
   ],
   "source": [
    "# 2. 取出第一筆與最後一筆回答的時間\n",
    "arr = []\n",
    "for d in data['data']:\n",
    "    arr.append(d['created_time'])\n",
    "\n",
    "#排序大小\n",
    "arr = sorted(arr)\n",
    "\n",
    "#將排序好的Timestamp轉換格式\n",
    "count = 0\n",
    "for a in arr:\n",
    "    timeStamp = a\n",
    "    timeArray = time.localtime(timeStamp)\n",
    "    arr[count] = time.strftime(\"%Y-%m-%d %H:%M:%S\", timeArray)\n",
    "    count += 1\n",
    "    \n",
    "#show 出第一筆跟最後一筆 count 表示總共有幾筆\n",
    "\n",
    "print(arr[0])\n",
    "print(arr[count - 1])\n"
   ]
  },
  {
   "cell_type": "code",
   "execution_count": null,
   "metadata": {
    "collapsed": true
   },
   "outputs": [],
   "source": []
  },
  {
   "cell_type": "code",
   "execution_count": null,
   "metadata": {
    "collapsed": true
   },
   "outputs": [],
   "source": []
  },
  {
   "cell_type": "code",
   "execution_count": null,
   "metadata": {
    "collapsed": true
   },
   "outputs": [],
   "source": []
  }
 ],
 "metadata": {
  "kernelspec": {
   "display_name": "Python 3",
   "language": "python",
   "name": "python3"
  },
  "language_info": {
   "codemirror_mode": {
    "name": "ipython",
    "version": 3
   },
   "file_extension": ".py",
   "mimetype": "text/x-python",
   "name": "python",
   "nbconvert_exporter": "python",
   "pygments_lexer": "ipython3",
   "version": "3.6.0"
  }
 },
 "nbformat": 4,
 "nbformat_minor": 2
}
