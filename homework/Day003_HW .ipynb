{
 "cells": [
  {
   "cell_type": "markdown",
   "metadata": {},
   "source": [
    "# Python 下載XML檔案與解析\n",
    "\n",
    "\n",
    "* 了解 xml 檔案格式與內容\n",
    "* 能夠利用套件存取 xml 格式的檔案\n"
   ]
  },
  {
   "cell_type": "markdown",
   "metadata": {},
   "source": [
    "## 作業目標\n",
    "\n",
    "* 比較一下範例檔案中的「File I/O」與「xmltodict」讀出來的內容有什麼差異\n",
    "\n",
    "* 根據範例檔案的結果：\n",
    "    1. 請問高雄市有多少地區有溫度資料？\n",
    "    2. 請取出每一個地區所記錄的第一個時間點跟溫度\n",
    "    3. 請取出第一個地區所記錄的每一個時間點跟溫度"
   ]
  },
  {
   "cell_type": "markdown",
   "metadata": {},
   "source": [
    "### 比較一下範例檔案中的「File I/O」與「xmltodict」讀出來的內容有什麼差異\n"
   ]
  },
  {
   "cell_type": "code",
   "execution_count": 1,
   "metadata": {
    "collapsed": true
   },
   "outputs": [],
   "source": [
    "    用File I/O 讀出來的結果是原本Xml檔案的儲存格式，不方便擷取人類所需資訊\n",
    "    用xmltodict可以方便從Xml檔案擷取人類所需的資訊"
   ]
  },
  {
   "cell_type": "markdown",
   "metadata": {},
   "source": [
    "### 根據範例檔案的結果：\n",
    "\n",
    "1. 請問高雄市有多少地區有溫度資料？\n",
    "2. 請取出每一個地區所記錄的第一個時間點跟溫度\n",
    "3. 請取出第一個地區所記錄的每一個時間點跟溫度"
   ]
  },
  {
   "cell_type": "code",
   "execution_count": 36,
   "metadata": {},
   "outputs": [
    {
     "name": "stdout",
     "output_type": "stream",
     "text": [
      "高雄市有38個地區有溫度資料\n"
     ]
    }
   ],
   "source": [
    "# 1. 請問高雄市有多少地區有溫度資料？\n",
    "import xmltodict\n",
    "\n",
    "area = []\n",
    "with open(\"./data/Day003/64_72hr_CH.xml\", \"r\", encoding = \"utf-8\") as fh:\n",
    "    doc = dict(xmltodict.parse(fh.read()))\n",
    "location = doc['cwbopendata']['dataset']['locations']['location']\n",
    "for section in location:\n",
    "    area.append(section.get('locationName'))\n",
    "count = 0\n",
    "for x in area:\n",
    "    count += 1\n",
    "print(\"高雄市有\" + str(count) + \"個地區有溫度資料\")\n"
   ]
  },
  {
   "cell_type": "code",
   "execution_count": 182,
   "metadata": {
    "scrolled": true
   },
   "outputs": [
    {
     "name": "stdout",
     "output_type": "stream",
     "text": [
      "2019-06-28T12:00:00+08:00\n",
      "33\n",
      "2019-06-28T12:00:00+08:00\n",
      "33\n",
      "2019-06-28T12:00:00+08:00\n",
      "33\n",
      "2019-06-28T12:00:00+08:00\n",
      "34\n",
      "2019-06-28T12:00:00+08:00\n",
      "32\n",
      "2019-06-28T12:00:00+08:00\n",
      "33\n",
      "2019-06-28T12:00:00+08:00\n",
      "33\n",
      "2019-06-28T12:00:00+08:00\n",
      "33\n",
      "2019-06-28T12:00:00+08:00\n",
      "33\n",
      "2019-06-28T12:00:00+08:00\n",
      "32\n",
      "2019-06-28T12:00:00+08:00\n",
      "33\n",
      "2019-06-28T12:00:00+08:00\n",
      "34\n",
      "2019-06-28T12:00:00+08:00\n",
      "33\n",
      "2019-06-28T12:00:00+08:00\n",
      "34\n",
      "2019-06-28T12:00:00+08:00\n",
      "34\n",
      "2019-06-28T12:00:00+08:00\n",
      "34\n",
      "2019-06-28T12:00:00+08:00\n",
      "33\n",
      "2019-06-28T12:00:00+08:00\n",
      "34\n",
      "2019-06-28T12:00:00+08:00\n",
      "34\n",
      "2019-06-28T12:00:00+08:00\n",
      "35\n",
      "2019-06-28T12:00:00+08:00\n",
      "34\n",
      "2019-06-28T12:00:00+08:00\n",
      "34\n",
      "2019-06-28T12:00:00+08:00\n",
      "34\n",
      "2019-06-28T12:00:00+08:00\n",
      "33\n",
      "2019-06-28T12:00:00+08:00\n",
      "33\n",
      "2019-06-28T12:00:00+08:00\n",
      "33\n",
      "2019-06-28T12:00:00+08:00\n",
      "32\n",
      "2019-06-28T12:00:00+08:00\n",
      "32\n",
      "2019-06-28T12:00:00+08:00\n",
      "32\n",
      "2019-06-28T12:00:00+08:00\n",
      "34\n",
      "2019-06-28T12:00:00+08:00\n",
      "34\n",
      "2019-06-28T12:00:00+08:00\n",
      "34\n",
      "2019-06-28T12:00:00+08:00\n",
      "33\n",
      "2019-06-28T12:00:00+08:00\n",
      "36\n",
      "2019-06-28T12:00:00+08:00\n",
      "34\n",
      "2019-06-28T12:00:00+08:00\n",
      "34\n",
      "2019-06-28T12:00:00+08:00\n",
      "31\n",
      "2019-06-28T12:00:00+08:00\n",
      "29\n"
     ]
    }
   ],
   "source": [
    "# 2. 請取出每一個地區所記錄的第一個時間點跟溫度\n",
    "area = []\n",
    "area1 = []\n",
    "with open(\"./data/Day003/64_72hr_CH.xml\", \"r\", encoding = \"utf-8\") as fh:\n",
    "    doc = dict(xmltodict.parse(fh.read()))\n",
    "location = doc['cwbopendata']['dataset']['locations']['location']\n",
    "\n",
    "for x in location:\n",
    "    area.append(x.get('weatherElement'))          #所有地區ELEMENT\n",
    "for x in range(38):\n",
    "    j = area[x]\n",
    "    k = j[0]\n",
    "    print(k['time'][0]['dataTime'])\n",
    "    print(k['time'][0]['elementValue']['value'])\n",
    "\n",
    "\n"
   ]
  },
  {
   "cell_type": "code",
   "execution_count": 222,
   "metadata": {},
   "outputs": [
    {
     "name": "stdout",
     "output_type": "stream",
     "text": [
      "2019-06-28T12:00:00+08:00\n",
      "33\n",
      "2019-06-28T15:00:00+08:00\n",
      "33\n",
      "2019-06-28T18:00:00+08:00\n",
      "32\n",
      "2019-06-28T21:00:00+08:00\n",
      "30\n",
      "2019-06-29T00:00:00+08:00\n",
      "30\n",
      "2019-06-29T03:00:00+08:00\n",
      "29\n",
      "2019-06-29T06:00:00+08:00\n",
      "28\n",
      "2019-06-29T09:00:00+08:00\n",
      "31\n",
      "2019-06-29T12:00:00+08:00\n",
      "32\n",
      "2019-06-29T15:00:00+08:00\n",
      "32\n",
      "2019-06-29T18:00:00+08:00\n",
      "31\n",
      "2019-06-29T21:00:00+08:00\n",
      "30\n",
      "2019-06-30T00:00:00+08:00\n",
      "29\n",
      "2019-06-30T03:00:00+08:00\n",
      "28\n",
      "2019-06-30T06:00:00+08:00\n",
      "28\n",
      "2019-06-30T09:00:00+08:00\n",
      "31\n",
      "2019-06-30T12:00:00+08:00\n",
      "32\n",
      "2019-06-30T15:00:00+08:00\n",
      "32\n",
      "2019-06-30T18:00:00+08:00\n",
      "31\n",
      "2019-06-30T21:00:00+08:00\n",
      "30\n",
      "2019-07-01T00:00:00+08:00\n",
      "29\n",
      "2019-07-01T03:00:00+08:00\n",
      "29\n",
      "2019-07-01T06:00:00+08:00\n",
      "28\n",
      "2019-07-01T09:00:00+08:00\n",
      "31\n"
     ]
    }
   ],
   "source": [
    "# 3. 請取出第一個地區所記錄的每一個時間點跟溫度\n",
    "\n",
    "area = []\n",
    "area1 = []\n",
    "with open(\"./data/Day003/64_72hr_CH.xml\", \"r\", encoding = \"utf-8\") as fh:\n",
    "    doc = dict(xmltodict.parse(fh.read()))\n",
    "location = doc['cwbopendata']['dataset']['locations']['location']\n",
    "\n",
    "for x in location:\n",
    "    area.append(x.get('weatherElement'))          #所有地區ELEMENT\n",
    "    \n",
    "area = area[0][0]            # 這個是鹽埕區的溫度\n",
    "for x in area['time']:\n",
    "    print(x['dataTime'])\n",
    "    print(x['elementValue']['value'])"
   ]
  },
  {
   "cell_type": "code",
   "execution_count": null,
   "metadata": {
    "collapsed": true
   },
   "outputs": [],
   "source": []
  }
 ],
 "metadata": {
  "kernelspec": {
   "display_name": "Python 3.8.0 32-bit",
   "language": "python",
   "name": "python38032bit041cefac728c420b86f64575ab00e085"
  },
  "language_info": {
   "codemirror_mode": {
    "name": "ipython",
    "version": 3
   },
   "file_extension": ".py",
   "mimetype": "text/x-python",
   "name": "python",
   "nbconvert_exporter": "python",
   "pygments_lexer": "ipython3",
   "version": "3.8.0"
  }
 },
 "nbformat": 4,
 "nbformat_minor": 2
}
